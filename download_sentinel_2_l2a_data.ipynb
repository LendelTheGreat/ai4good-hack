{
 "cells": [
  {
   "cell_type": "code",
   "execution_count": null,
   "metadata": {},
   "outputs": [],
   "source": [
    "!pip install oauthlib\n",
    "!pip install requests_oauthlib"
   ]
  },
  {
   "cell_type": "code",
   "execution_count": null,
   "metadata": {},
   "outputs": [],
   "source": [
    "import os\n",
    "import json\n",
    "import shutil\n",
    "\n",
    "import requests\n",
    "from oauthlib.oauth2 import BackendApplicationClient\n",
    "from requests_oauthlib import OAuth2Session"
   ]
  },
  {
   "cell_type": "code",
   "execution_count": null,
   "metadata": {},
   "outputs": [],
   "source": [
    "# Get your client credentials from sentinel hub\n",
    "client_id = os.environ['SH_ID']\n",
    "client_secret = os.environ['SH_SECRET']\n",
    "\n",
    "client = BackendApplicationClient(client_id=client_id)\n",
    "oauth = OAuth2Session(client=client)\n",
    "token = oauth.fetch_token(token_url='https://services.sentinel-hub.com/oauth/token',\n",
    "                          client_id=client_id, client_secret=client_secret)\n",
    "resp = oauth.get(\"https://services.sentinel-hub.com/oauth/tokeninfo\")"
   ]
  },
  {
   "cell_type": "code",
   "execution_count": null,
   "metadata": {},
   "outputs": [],
   "source": [
    "template_json = {\n",
    "    \"input\": {\n",
    "        \"bounds\": {\n",
    "            \"bbox\": [\n",
    "                13.822174072265625,\n",
    "                45.85080395917834,\n",
    "                14.55963134765625,\n",
    "                46.29191774991382\n",
    "            ]\n",
    "        },\n",
    "        \"data\": [{\n",
    "            \"type\": \"S2L2A\",\n",
    "            'dataFilter': {\n",
    "                'mosaickingOrder': 'leastCC',\n",
    "                'maxCloudCoverage': 3,\n",
    "                \"timeRange\": {\n",
    "                    \"from\": \"2018-10-01T00:00:00Z\",\n",
    "                    \"to\": \"2019-12-31T00:00:00Z\"\n",
    "                }\n",
    "            }\n",
    "        }],\n",
    "        'bands': ['B02', 'B03', 'B04'], # RGB\n",
    "        \"output\": {\n",
    "            \"width\": 256,\n",
    "            \"height\": 256\n",
    "        }\n",
    "    },\n",
    "    \"evalscript\": \"\"\"\n",
    "    //VERSION=3\n",
    "\n",
    "    function setup() {\n",
    "      return {\n",
    "        input: [\"B02\", \"B03\", \"B04\"],\n",
    "        output: {\n",
    "          bands: 3\n",
    "        }\n",
    "      };\n",
    "    }\n",
    "\n",
    "    function evaluatePixel(\n",
    "      sample,\n",
    "      scenes,\n",
    "      inputMetadata,\n",
    "      customData,\n",
    "      outputMetadata\n",
    "    ) {\n",
    "      return [2.5 * sample.B04, 2.5 * sample.B03, 2.5 * sample.B02];\n",
    "    }\n",
    "    \"\"\"\n",
    "}"
   ]
  },
  {
   "cell_type": "code",
   "execution_count": null,
   "metadata": {},
   "outputs": [],
   "source": [
    "def download_image(lat, long, path):\n",
    "    pad = 0.05\n",
    "    bbox = [long-pad, lat-pad, long+pad, lat+pad]\n",
    "    data = template_json\n",
    "    data['input']['bounds']['bbox'] = bbox\n",
    "    response = oauth.post('https://services.sentinel-hub.com/api/v1/process', json=data)\n",
    "    print(response)\n",
    "    with open(path, 'wb') as f:\n",
    "        f.write(response.content)        "
   ]
  },
  {
   "cell_type": "code",
   "execution_count": null,
   "metadata": {},
   "outputs": [],
   "source": [
    "# Test it out by downloading Venice\n",
    "download_image(lat=45.44, long=12.33, path='test_image_venice.png')"
   ]
  },
  {
   "cell_type": "code",
   "execution_count": null,
   "metadata": {},
   "outputs": [],
   "source": []
  }
 ],
 "metadata": {
  "kernelspec": {
   "display_name": "conda_pytorch_p36",
   "language": "python",
   "name": "conda_pytorch_p36"
  },
  "language_info": {
   "codemirror_mode": {
    "name": "ipython",
    "version": 3
   },
   "file_extension": ".py",
   "mimetype": "text/x-python",
   "name": "python",
   "nbconvert_exporter": "python",
   "pygments_lexer": "ipython3",
   "version": "3.6.5"
  }
 },
 "nbformat": 4,
 "nbformat_minor": 4
}
