{
 "cells": [
  {
   "cell_type": "code",
   "execution_count": 67,
   "metadata": {},
   "outputs": [],
   "source": [
    "import pandas as pd\n",
    "from sagemaker import get_execution_role\n",
    "\n",
    "role = get_execution_role()\n",
    "df1=pd.read_csv('s3://aiforgood2020/FIRMS_data/fire_archive_M6_119647.csv')\n",
    "df2=pd.read_csv('s3://aiforgood2020/FIRMS_data/fire_archive_V1_119649.csv')\n",
    "df1['confidence']=pd.cut(df1.confidence,[0,30,70,100],labels=['l','n','h'],include_lowest=True).astype('str')\n",
    "needed_cols=['latitude', 'longitude','scan', 'track', 'acq_date','acq_time','instrument','confidence','frp', 'type']\n",
    "df1=df1[needed_cols]\n",
    "df2=df2[needed_cols]\n",
    "df=pd.concat([df1,df2],ignore_index=True)\n",
    "\n",
    "df"
   ]
  }
 ],
 "metadata": {
  "kernelspec": {
   "display_name": "Python 3.7.4 64-bit ('base': conda)",
   "language": "python",
   "name": "python37464bitbaseconda8e4a4f46dfaa4fbeb15f67c044336776"
  },
  "language_info": {
   "codemirror_mode": {
    "name": "ipython",
    "version": 3
   },
   "file_extension": ".py",
   "mimetype": "text/x-python",
   "name": "python",
   "nbconvert_exporter": "python",
   "pygments_lexer": "ipython3",
   "version": "3.7.4"
  }
 },
 "nbformat": 4,
 "nbformat_minor": 2
}
